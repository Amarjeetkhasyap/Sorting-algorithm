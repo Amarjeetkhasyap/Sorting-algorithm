{
 "cells": [
  {
   "cell_type": "code",
   "execution_count": 8,
   "metadata": {},
   "outputs": [],
   "source": [
    "def Merge_sort(arr):\n",
    "    if len(arr)==1:\n",
    "        return \n",
    "    middle_index=len(arr)//2\n",
    "    left_subarr= arr[:middle_index]\n",
    "    right_subarr=arr[middle_index:]\n",
    "    Merge_sort(left_subarr)\n",
    "    Merge_sort(right_subarr)\n",
    "    \n",
    "    i=0\n",
    "    j=0\n",
    "    k=0\n",
    "    \n",
    "    while i<len(left_subarr) and j<len(right_subarr):\n",
    "        if left_subarr[i] < right_subarr[j]:\n",
    "            arr[k]=left_subarr[i]\n",
    "            i= i+1\n",
    "        else:\n",
    "            arr[k]=right_subarr[j]\n",
    "            j=j+1\n",
    "        k=k+1\n",
    "    \n",
    "    while i<len(left_subarr):\n",
    "        arr[k]=left_subarr[i]\n",
    "        k=k+1\n",
    "        i=i+1\n",
    "    while j<len(right_subarr):\n",
    "        arr[k]=right_subarr[j]\n",
    "        k=k+1\n",
    "        j=j+1\n",
    "    \n",
    "    \n",
    "    "
   ]
  },
  {
   "cell_type": "code",
   "execution_count": 10,
   "metadata": {},
   "outputs": [
    {
     "name": "stdout",
     "output_type": "stream",
     "text": [
      "[-646484, -648, -464, -5, 1, 2, 3, 6, 9, 555, 2454]\n"
     ]
    }
   ],
   "source": [
    "a=[1,2,6,3,9,-5,-648,-646484,555,2454,-464]\n",
    "Merge_sort(a)\n",
    "print(a)"
   ]
  },
  {
   "cell_type": "code",
   "execution_count": null,
   "metadata": {},
   "outputs": [],
   "source": []
  }
 ],
 "metadata": {
  "kernelspec": {
   "display_name": "Python 3",
   "language": "python",
   "name": "python3"
  },
  "language_info": {
   "codemirror_mode": {
    "name": "ipython",
    "version": 3
   },
   "file_extension": ".py",
   "mimetype": "text/x-python",
   "name": "python",
   "nbconvert_exporter": "python",
   "pygments_lexer": "ipython3",
   "version": "3.7.1"
  }
 },
 "nbformat": 4,
 "nbformat_minor": 2
}
