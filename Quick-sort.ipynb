{
 "cells": [
  {
   "cell_type": "code",
   "execution_count": 22,
   "metadata": {},
   "outputs": [],
   "source": [
    "def quick_sort(arr,low,high):\n",
    "    if low>=high:\n",
    "        return\n",
    "    pivot=partition(arr,low,high)\n",
    "    quick_sort(arr,low,pivot-1)\n",
    "    quick_sort(arr,pivot+1,high)\n",
    "def partition(arr,low,high):\n",
    "    pivot = high\n",
    "    i=low\n",
    "    for j in range(low,high,1):\n",
    "        if arr[j]<=arr[high]:\n",
    "            arr[i],arr[j]=arr[j],arr[i]\n",
    "            i=i+1\n",
    "    arr[i],arr[high]=arr[high],arr[i]\n",
    "    return i\n",
    "    "
   ]
  },
  {
   "cell_type": "code",
   "execution_count": 23,
   "metadata": {},
   "outputs": [
    {
     "name": "stdout",
     "output_type": "stream",
     "text": [
      "[-45, -5, 1, 1, 5, 6, 7, 1546, 2134]\n"
     ]
    }
   ],
   "source": [
    "a=[1,6,1,5,7,-5,-45,1546,2134]\n",
    "quick_sort(a,0,len(a)-1)\n",
    "print(a)\n"
   ]
  },
  {
   "cell_type": "code",
   "execution_count": null,
   "metadata": {},
   "outputs": [],
   "source": []
  }
 ],
 "metadata": {
  "kernelspec": {
   "display_name": "Python 3",
   "language": "python",
   "name": "python3"
  },
  "language_info": {
   "codemirror_mode": {
    "name": "ipython",
    "version": 3
   },
   "file_extension": ".py",
   "mimetype": "text/x-python",
   "name": "python",
   "nbconvert_exporter": "python",
   "pygments_lexer": "ipython3",
   "version": "3.7.1"
  }
 },
 "nbformat": 4,
 "nbformat_minor": 2
}
